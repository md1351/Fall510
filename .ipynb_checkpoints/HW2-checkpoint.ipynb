{
 "cells": [
  {
   "cell_type": "code",
   "execution_count": 2,
   "metadata": {
    "collapsed": false
   },
   "outputs": [],
   "source": [
    "def fib(n):\n",
    "    a,b=0,1\n",
    "    print(a)\n",
    "    print(b)\n",
    "    while b<n:\n",
    "        a,b=b,a+b\n",
    "        if b<n:\n",
    "            print(b)"
   ]
  },
  {
   "cell_type": "code",
   "execution_count": 4,
   "metadata": {
    "collapsed": false
   },
   "outputs": [],
   "source": [
    "def mymax(a,b):\n",
    "    if a>b:\n",
    "        print(a)\n",
    "    else: \n",
    "        print(b)"
   ]
  },
  {
   "cell_type": "code",
   "execution_count": 6,
   "metadata": {
    "collapsed": false
   },
   "outputs": [],
   "source": [
    "def max_of_three(a,b,c):\n",
    "    if a>b and a>c:\n",
    "        print(a)\n",
    "    if b>a and b>c:\n",
    "        print(b)\n",
    "    if c>a and c>b:\n",
    "        print(c)"
   ]
  },
  {
   "cell_type": "code",
   "execution_count": 10,
   "metadata": {
    "collapsed": false
   },
   "outputs": [],
   "source": [
    "def mylen(n):\n",
    "    count=0\n",
    "    for i in n:\n",
    "        count+=1\n",
    "    return(count)"
   ]
  },
  {
   "cell_type": "code",
   "execution_count": 12,
   "metadata": {
    "collapsed": false
   },
   "outputs": [],
   "source": [
    "def vowel(n):\n",
    "    if n in['a','e','i','o','u']:\n",
    "        print ('True')\n",
    "    else:\n",
    "        print('False')"
   ]
  },
  {
   "cell_type": "code",
   "execution_count": 13,
   "metadata": {
    "collapsed": false
   },
   "outputs": [],
   "source": [
    "def translate(str):\n",
    "    list=[]\n",
    "    consonant=['b','c','d','f','g','h','j','k','l','m','n','p','q','r','s','t','v','w','x','y','z']\n",
    "    for i in str:\n",
    "        if i in consonant:\n",
    "            i=i+'o'+i\n",
    "            list.append(i)\n",
    "        else:\n",
    "            i=i\n",
    "            list.append(i)\n",
    "    return(''.join(list))"
   ]
  },
  {
   "cell_type": "code",
   "execution_count": 18,
   "metadata": {
    "collapsed": false
   },
   "outputs": [],
   "source": [
    "def sum(*numbers):\n",
    "    count=0\n",
    "    for i in numbers:\n",
    "        count+= numbers[i-1]\n",
    "    return count"
   ]
  },
  {
   "cell_type": "code",
   "execution_count": 22,
   "metadata": {
    "collapsed": false
   },
   "outputs": [],
   "source": [
    "def multiply(*numbers):\n",
    "    count=1\n",
    "    for i in numbers:\n",
    "        count*=numbers[i-1]\n",
    "    return count"
   ]
  },
  {
   "cell_type": "code",
   "execution_count": 23,
   "metadata": {
    "collapsed": false
   },
   "outputs": [],
   "source": [
    "def reverse(a):\n",
    "    print(a[::-1])"
   ]
  },
  {
   "cell_type": "code",
   "execution_count": 26,
   "metadata": {
    "collapsed": false
   },
   "outputs": [],
   "source": [
    "def is_palindrome(a):\n",
    "    b=a[::-1]\n",
    "    if a==b:\n",
    "        print('True')\n",
    "    else:\n",
    "        print('False')"
   ]
  },
  {
   "cell_type": "code",
   "execution_count": 27,
   "metadata": {
    "collapsed": false
   },
   "outputs": [],
   "source": [
    "def is_member(x,a):\n",
    "    if x in a:\n",
    "        print('True')\n",
    "    else:\n",
    "        print('False')"
   ]
  },
  {
   "cell_type": "code",
   "execution_count": 28,
   "metadata": {
    "collapsed": false
   },
   "outputs": [],
   "source": [
    "def overlapping(a,b):\n",
    "    for i in a:\n",
    "        if i in b:\n",
    "            return(True)\n",
    "    else:\n",
    "        return(False)"
   ]
  },
  {
   "cell_type": "code",
   "execution_count": 29,
   "metadata": {
    "collapsed": false
   },
   "outputs": [],
   "source": [
    "def generate_n_chars(n,character):\n",
    "    while len(character)<n:\n",
    "        character+=character[0]\n",
    "    return(character)"
   ]
  }
 ],
 "metadata": {
  "kernelspec": {
   "display_name": "Python 3",
   "language": "python",
   "name": "python3"
  },
  "language_info": {
   "codemirror_mode": {
    "name": "ipython",
    "version": 3
   },
   "file_extension": ".py",
   "mimetype": "text/x-python",
   "name": "python",
   "nbconvert_exporter": "python",
   "pygments_lexer": "ipython3",
   "version": "3.4.3"
  }
 },
 "nbformat": 4,
 "nbformat_minor": 0
}
