{
 "cells": [
  {
   "cell_type": "markdown",
   "metadata": {},
   "source": [
    "# polygperim()"
   ]
  },
  {
   "cell_type": "code",
   "execution_count": 2,
   "metadata": {
    "collapsed": false
   },
   "outputs": [
    {
     "data": {
      "text/plain": [
       "6.0"
      ]
     },
     "execution_count": 2,
     "metadata": {},
     "output_type": "execute_result"
    }
   ],
   "source": [
    "\"\"\"\n",
    "Let coords be a vector of x, y pairs that describe the vertices of a\n",
    "polygon given in order. Write functions polygperim(coords) that compute\n",
    "the perimeter of the polygon. n is the number of polygon vertices, and\n",
    "by definition, x(n+1) = x(1) and y(n+1) = y(1). Test the funtions on\n",
    "a square and an equilateral triangle.\n",
    "\"\"\"\n",
    "import math #import the math module therefore we can use the math.sqrt() to calculate the square root\n",
    "def polygperim(coords):#the beginning of defining, the function name is polygperim and the input is coords which is contructed by the pairs of vectors coordinations\n",
    "    perim = 0 #set initial value of perim as 0 and add up each line in the loop\n",
    "    for i in range(len(coords)-1):# for loop, because we will use [i+1] therefore we must use [len(coords)-1] and range() will return a range (0, len(coords)-1) which acts as the domain of the loop\n",
    "        p = math.sqrt((coords[i][0]-coords[i+1][0])**2 + (coords[i][1] - coords[i+1][1])**2)#p is the distance between two points and we use the coordinations of the points to calculate the distance\n",
    "        perim += p # add up to perim and each time the perim will add one distance between two points\n",
    "    perim += math.sqrt((coords[-1][0]-coords[0][0])**2 + (coords[-1][1] - coords[0][1])**2)#because we use the [len(coords)-1] in the loop therefore we have missed one length between two points therefore we add this to the final answer\n",
    "    return(perim)#return the value of the final answer\n",
    "\n",
    "#Example: square with length 2 and the coords pairs of the vertices is defined as following like a, b ,c d each represent one vertice\n",
    "a=[0,0]\n",
    "b=[2,0]\n",
    "c=[2,2]\n",
    "d=[0,2]\n",
    "coords=[a,b,c,d]\n",
    "polygperim(coords)\n",
    "\n",
    "#Example: equilateral triangle with length 2. The coords pairs of the vertices is defined as following like a, b, c each represent one vertice\n",
    "e=[0,0]\n",
    "f=[2,0]\n",
    "g=[1,math.sqrt(3)]\n",
    "coords=[e,f,g]\n",
    "polygperim(coords)"
   ]
  },
  {
   "cell_type": "markdown",
   "metadata": {},
   "source": [
    "# polygarea()"
   ]
  },
  {
   "cell_type": "code",
   "execution_count": 3,
   "metadata": {
    "collapsed": false
   },
   "outputs": [
    {
     "data": {
      "text/plain": [
       "4.0"
      ]
     },
     "execution_count": 3,
     "metadata": {},
     "output_type": "execute_result"
    }
   ],
   "source": [
    "\"\"\"\n",
    "Let coords be a vector of x, y pairs that describe the vertices of \n",
    "a polygon given in order. Write functions polygarea(coords) that compute\n",
    "the area of the polygon. For the area, use the following formula based\n",
    "on Green's theorem, n is the number of polygon vertices, and by definition\n",
    "x(n+1)=x(1) and y(n+1)=y(1). Test the functions on a square and an\n",
    "equilateral triangle.\n",
    "\"\"\" \n",
    "def polygarea(coords):#the beginning of defining, the function name is polygarea and the input is coords which is contructed by the pairs of vectors coordinations\n",
    "    area=0#set the initial value of area and add up with the Green theorem later in the loop\n",
    "    for i in range(len(coords)-1):# for loop, because we will use [i+1] therefore we must use [len(coords)-1] and range() will return a range (0, len(coords)-1) which acts as the domain of the loop\n",
    "        p=coords[i][0]*coords[i+1][1] - coords[i+1][0]*coords[i][1]#the inner part of the Green theorem without the sum\n",
    "        area += p#in each time of loop add the result to the area variable\n",
    "    area += coords[-1][0]*coords[0][1] - coords[0][0]*coords[-1][1]#the area here is the result after the loop, but because we use [len(coords)-1] in the loop therefore there are one equation left we just add this to the final answer\n",
    "    return(abs(area)/2)#return the final answer, abs() is for absolute value\n",
    "\n",
    "#Example: square with length 2 and the coords pairs of the vertices is defined as following like a, b ,c d each represent one vertice\n",
    "a=[0,0]\n",
    "b=[2,0]\n",
    "c=[2,2]\n",
    "d=[0,2]\n",
    "coords=[a,b,c,d]\n",
    "polygarea(coords)\n",
    "\n",
    "#Example: equilateral triangle with length 2. The coords pairs of the vertices is defined as following like a, b, c each represent one vertice\n",
    "a=[0,0]\n",
    "b=[2,0]\n",
    "c=[1,math.sqrt(3)]\n",
    "coords=[a,b,c]\n",
    "polygarea(coords)"
   ]
  }
 ],
 "metadata": {
  "kernelspec": {
   "display_name": "Python 3",
   "language": "python",
   "name": "python3"
  },
  "language_info": {
   "codemirror_mode": {
    "name": "ipython",
    "version": 3
   },
   "file_extension": ".py",
   "mimetype": "text/x-python",
   "name": "python",
   "nbconvert_exporter": "python",
   "pygments_lexer": "ipython3",
   "version": "3.4.3"
  }
 },
 "nbformat": 4,
 "nbformat_minor": 0
}
