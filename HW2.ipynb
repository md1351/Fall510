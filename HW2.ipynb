{
 "cells": [
  {
   "cell_type": "code",
   "execution_count": 2,
   "metadata": {
    "collapsed": false
   },
   "outputs": [],
   "source": [
    "def fib(n):\n",
    "    a,b=0,1#name a and b simultaneously\n",
    "    print(a)\n",
    "    print(b)#because a,b will change and not shown in the while loop therefore I print here to include both in the final answer\n",
    "    while b<n:\n",
    "        a,b=b,a+b#the construction of the Fibonacci\n",
    "        if b<n:#ensure the list in smaller than n\n",
    "            print(b)"
   ]
  },
  {
   "cell_type": "code",
   "execution_count": 4,
   "metadata": {
    "collapsed": false
   },
   "outputs": [],
   "source": [
    "def mymax(a,b):\n",
    "    if a>b:#Comparison\n",
    "        print(a)\n",
    "    else: \n",
    "        print(b)"
   ]
  },
  {
   "cell_type": "code",
   "execution_count": 6,
   "metadata": {
    "collapsed": false
   },
   "outputs": [],
   "source": [
    "def max_of_three(a,b,c):\n",
    "    if a>b and a>c:\n",
    "        print(a)\n",
    "    if b>a and b>c:\n",
    "        print(b)\n",
    "    if c>a and c>b:\n",
    "        print(c)"
   ]
  },
  {
   "cell_type": "code",
   "execution_count": 10,
   "metadata": {
    "collapsed": false
   },
   "outputs": [],
   "source": [
    "def mylen(n):\n",
    "    count=0\n",
    "    for i in n:\n",
    "        count+=1#count 1 by 1, and add 1 each count until the last letter of n, begin from 0\n",
    "    return(count)"
   ]
  },
  {
   "cell_type": "code",
   "execution_count": 12,
   "metadata": {
    "collapsed": false
   },
   "outputs": [],
   "source": [
    "def vowel(n):\n",
    "    if n in['a','e','i','o','u']:# in operator to test if in the list\n",
    "        print ('True')\n",
    "    else:\n",
    "        print('False')"
   ]
  },
  {
   "cell_type": "code",
   "execution_count": 13,
   "metadata": {
    "collapsed": false
   },
   "outputs": [],
   "source": [
    "def translate(str):\n",
    "    list=[]#empty set, to include the results we want\n",
    "    consonant=['b','c','d','f','g','h','j','k','l','m','n','p','q','r','s','t','v','w','x','y','z']\n",
    "    for i in str:\n",
    "        if i in consonant:\n",
    "            i=i+'o'+i#if i is consonant then we give a new value of this i with i+'o'+i\n",
    "            list.append(i)#put the new value into the list\n",
    "        else:\n",
    "            i=i#not a consonant, it keep the same \n",
    "            list.append(i)\n",
    "    return(''.join(list))#jointly show the results of the for loop"
   ]
  },
  {
   "cell_type": "code",
   "execution_count": 18,
   "metadata": {
    "collapsed": false
   },
   "outputs": [],
   "source": [
    "def sum(*numbers):\n",
    "    count=0\n",
    "    for i in numbers:\n",
    "        count+= numbers[i-1]#use the index [] to add up the numbers\n",
    "    return count"
   ]
  },
  {
   "cell_type": "code",
   "execution_count": 22,
   "metadata": {
    "collapsed": false
   },
   "outputs": [],
   "source": [
    "def multiply(*numbers):\n",
    "    count=1\n",
    "    for i in numbers:\n",
    "        count*=numbers[i-1]#use index [] to multiply the numbers\n",
    "    return count"
   ]
  },
  {
   "cell_type": "code",
   "execution_count": 23,
   "metadata": {
    "collapsed": false
   },
   "outputs": [],
   "source": [
    "def reverse(a):\n",
    "    print(a[::-1])#count the list with step -1 which means from the end to the beginning"
   ]
  },
  {
   "cell_type": "code",
   "execution_count": 26,
   "metadata": {
    "collapsed": false
   },
   "outputs": [],
   "source": [
    "def is_palindrome(a):\n",
    "    b=a[::-1]#generate a new word from the end to the begining of a\n",
    "    if a==b:#test if a and b are equal\n",
    "        print('True')\n",
    "    else:\n",
    "        print('False')"
   ]
  },
  {
   "cell_type": "code",
   "execution_count": 27,
   "metadata": {
    "collapsed": false
   },
   "outputs": [],
   "source": [
    "def is_member(x,a):\n",
    "    if x in a:\n",
    "        print('True')\n",
    "    else:\n",
    "        print('False')"
   ]
  },
  {
   "cell_type": "code",
   "execution_count": 28,
   "metadata": {
    "collapsed": false
   },
   "outputs": [],
   "source": [
    "def overlapping(a,b):\n",
    "    for i in a:#get one letter from a\n",
    "        if i in b:#test if the letter chosen from a is also in b\n",
    "            return(True)\n",
    "    else:\n",
    "        return(False)"
   ]
  },
  {
   "cell_type": "code",
   "execution_count": 29,
   "metadata": {
    "collapsed": false
   },
   "outputs": [],
   "source": [
    "def generate_n_chars(n,character):\n",
    "    while len(character)<n:\n",
    "        character+=character[0]#if the length is still smaller than n, we will add one character to the character until they are equal\n",
    "    return(character)"
   ]
“AW: every function should have doc header comments using triple quotes so the function is supported by the help() function”
  }
 ],
 "metadata": {
  "kernelspec": {
   "display_name": "Python 3",
   "language": "python",
   "name": "python3"
  },
  "language_info": {
   "codemirror_mode": {
    "name": "ipython",
    "version": 3
   },
   "file_extension": ".py",
   "mimetype": "text/x-python",
   "name": "python",
   "nbconvert_exporter": "python",
   "pygments_lexer": "ipython3",
   "version": "3.4.3"
  }
 },
 "nbformat": 4,
 "nbformat_minor": 0
}
