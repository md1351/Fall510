{
 "cells": [
  {
   "cell_type": "markdown",
   "metadata": {},
   "source": [
    "# fib(n)"
   ]
  },
  {
   "cell_type": "code",
   "execution_count": 1,
   "metadata": {
    "collapsed": false
   },
   "outputs": [
    {
     "name": "stdout",
     "output_type": "stream",
     "text": [
      "0\n",
      "1\n",
      "1\n",
      "2\n",
      "3\n",
      "5\n",
      "8\n"
     ]
    }
   ],
   "source": [
    "\"\"\"\n",
    "Define a function 'fib' that takes a number, 'n', as a parameter and\n",
    "prints all the Fibonacci numbers less than 'n' to the screen.\n",
    "\n",
    "\"\"\"\n",
    "def fib(n):#the beginning of define one function, fib() is the name of the function\n",
    "    a,b=0,1 #assign values simultaneously, set a=0 and b=1\n",
    "    print(a)\n",
    "    print(b)#pring a and b here to ensure the final results also includes 0 and 1, for the completeness concern\n",
    "    while b<n:#loop while, which will keep on running untile all values are operated or specificly break indicate\n",
    "        a,b=b,a+b #assign values simultaneously, a=b and b=a+b which is the property of Fibonacci \n",
    "        if b<n:#if... if the given condition meet, the loop will go further to next operation\n",
    "            print(b)\n",
    "#Example\n",
    "fib(10)"
   ]
  },
  {
   "cell_type": "markdown",
   "metadata": {},
   "source": [
    "# mymax()"
   ]
  },
  {
   "cell_type": "code",
   "execution_count": 2,
   "metadata": {
    "collapsed": false
   },
   "outputs": [
    {
     "name": "stdout",
     "output_type": "stream",
     "text": [
      "60\n"
     ]
    }
   ],
   "source": [
    "\"\"\"\n",
    "\n",
    "Define a function mymax() that takes two numbers as arguments and \n",
    "returns the largest of them. Use the if-then-else construct available\n",
    "in Python.\n",
    "\n",
    "\"\"\"\n",
    "def mymax(a,b):#the beginning of function, mymax() is the name of the function, a, b are the inputs of the function\n",
    "    if a>b:#if..else.. is one loop that if the condtion of if can not meet, then go to else. we set the condition as \"a>b\" which shows the comparision of a, b values\n",
    "        print(a)#if a is actually larger, then just output a\n",
    "    else:#the a>b condition can not meet, then go else\n",
    "        print(b)#if a is not larger, then a equals b or b is larger, then no matter which conditon, we can just output b\n",
    "\n",
    "#Example\n",
    "mymax(10,60)"
   ]
  },
  {
   "cell_type": "markdown",
   "metadata": {},
   "source": [
    "# max_of_three(a,b,c)"
   ]
  },
  {
   "cell_type": "code",
   "execution_count": 3,
   "metadata": {
    "collapsed": false
   },
   "outputs": [
    {
     "name": "stdout",
     "output_type": "stream",
     "text": [
      "10\n"
     ]
    }
   ],
   "source": [
    "\"\"\"\n",
    "Define a function max_of_three() that takes three numbers as \n",
    "arguments and returns the largest of them.\n",
    "\n",
    "\"\"\"\n",
    "def max_of_three(a,b,c):#the beginning of definning, the name of the function is max_of_three, the inputs contains three variables, a,b and c\n",
    "    if a>b and a>c:#compare a, b and c, if a is larger than the rest two, output a\n",
    "        print(a)\n",
    "    if b>a and b>c:#compare a, b and c, if b is larger than the rest two, output b\n",
    "        print(b)\n",
    "    if c>a and c>b:#compare a, b and c, if c is larger than the rest two, output c\n",
    "        print(c)\n",
    "\n",
    "#Example\n",
    "max_of_three(1,5,10)"
   ]
  },
  {
   "cell_type": "markdown",
   "metadata": {},
   "source": [
    "#mylen() "
   ]
  },
  {
   "cell_type": "code",
   "execution_count": 4,
   "metadata": {
    "collapsed": false
   },
   "outputs": [
    {
     "data": {
      "text/plain": [
       "6"
      ]
     },
     "execution_count": 4,
     "metadata": {},
     "output_type": "execute_result"
    }
   ],
   "source": [
    "\"\"\"\n",
    "\n",
    "Define a function mylen() that computes the length of a given list\n",
    "or string.\n",
    "\n",
    "\"\"\"\n",
    "def mylen(n):#the beginning of definning, the name of function is mylen() and just requirs one input\n",
    "    count=0#give initial value of count as 0 \n",
    "    for i in n:#for loop, because input will be a list or string, so the loop will be in the length of input\n",
    "        count += 1#for each loop, the count will add one and redefined, so each loop count will increase one\n",
    "    return(count)#this give the final value count and this value should be the length\n",
    "\n",
    "#Example\n",
    "mylen('string')"
   ]
  },
  {
   "cell_type": "markdown",
   "metadata": {},
   "source": [
    "# vowel()"
   ]
  },
  {
   "cell_type": "code",
   "execution_count": 5,
   "metadata": {
    "collapsed": false
   },
   "outputs": [
    {
     "name": "stdout",
     "output_type": "stream",
     "text": [
      "False\n"
     ]
    }
   ],
   "source": [
    "\"\"\"\n",
    "Write a function that takes a character and returns True if it is \n",
    "a vowel, false otherwise.\n",
    "\n",
    "\"\"\"\n",
    "def vowel(n):#beginnin of definning, the name of function is vowel() and requires one input\n",
    "    if n in ['a','e','i','o','u','A','E','I','O','U']:# 'in' mean the input is one element of the list, if really in the list, the letter is vowel and output true. Both lower and upper case should be considered.\n",
    "        print('True')\n",
    "    else:#if n is not in the vowel list, then output should be false\n",
    "        print('False')\n",
    "\n",
    "#Example\n",
    "vowel('k')"
   ]
  },
  {
   "cell_type": "markdown",
   "metadata": {},
   "source": [
    "# translate()"
   ]
  },
  {
   "cell_type": "code",
   "execution_count": 6,
   "metadata": {
    "collapsed": false
   },
   "outputs": [
    {
     "data": {
      "text/plain": [
       "'tothohisos isos fofunon'"
      ]
     },
     "execution_count": 6,
     "metadata": {},
     "output_type": "execute_result"
    }
   ],
   "source": [
    "\"\"\"\n",
    "Define a function translate() that will translate a text into \"rövarspråket\"\n",
    "That is, double every consonant and place an occurrence of \"o\" in between.\n",
    "\n",
    "\"\"\"\n",
    "def translate(str):#beginning of define, the name of the function if translate, the input is str\n",
    "    list=[]#define one empty set for later write in\n",
    "    consonant=['b','c','d','f','g','h','j','k','l','m','n','p','q','r','s','t','v','w','x','y','z']\n",
    "    for i in str:#for loop, take the letters of str \n",
    "        if i in consonant:#additonal condition, if the letter taken from str is in the consonant set\n",
    "            i=i+'o'+i#we will redefine the value of i as i+'o'+i\n",
    "            list.append(i)#we write the redefined value of i into the empty set from the end \n",
    "        else:\n",
    "            i=i#if not in the consonant list, just keep the same \n",
    "            list.append(i)#same letter also put in the list set from the end point\n",
    "    return(''.join(list))#return the final value of the loop and show the letters in list set as one string with the .join()\n",
    "\n",
    "#Example\n",
    "translate('this is fun')"
   ]
  },
  {
   "cell_type": "markdown",
   "metadata": {},
   "source": [
    "# sum()&multiply()"
   ]
  },
  {
   "cell_type": "code",
   "execution_count": 20,
   "metadata": {
    "collapsed": false
   },
   "outputs": [
    {
     "data": {
      "text/plain": [
       "10"
      ]
     },
     "execution_count": 20,
     "metadata": {},
     "output_type": "execute_result"
    }
   ],
   "source": [
    "\"\"\"\n",
    "Define a function sum() and a function multiply() that sums and \n",
    "multiplies(respectively) all the numbers in a list of number.\n",
    "\n",
    "\"\"\"\n",
    "def sum(numbers):#beginning of definning, the name of function is sum(), the input numbers can be a list \n",
    "    count=0#set the initial value of count as 0\n",
    "    for i in range(len(numbers)):#for loop in numbers\n",
    "        count += numbers[i-1]#i begin from 1 and add the number in the list to count one by one\n",
    "    return(count)#after all the values in the list have been added, return the value of count\n",
    "\n",
    "#Example\n",
    "sum([1,2,3,4])"
   ]
  },
  {
   "cell_type": "code",
   "execution_count": 21,
   "metadata": {
    "collapsed": false
   },
   "outputs": [
    {
     "data": {
      "text/plain": [
       "24"
      ]
     },
     "execution_count": 21,
     "metadata": {},
     "output_type": "execute_result"
    }
   ],
   "source": [
    "def multiply(numbers):#the beginning of function, function name is multiply, the input is numbers\n",
    "    count=1#set the initial value as 1\n",
    "    for i in numbers:#for loop among list\n",
    "        count *= numbers[i-1]#each loop will multiply the numbers in the list one by one and redefine the value of count \n",
    "    return(count)#after all the loop, return the final value of count which is the accumulate multiplication value\n",
    "\n",
    "#Example\n",
    "multiply([1,2,3,4])"
   ]
  },
  {
   "cell_type": "markdown",
   "metadata": {},
   "source": [
    "# reverse()"
   ]
  },
  {
   "cell_type": "code",
   "execution_count": 22,
   "metadata": {
    "collapsed": false
   },
   "outputs": [
    {
     "name": "stdout",
     "output_type": "stream",
     "text": [
      "gnitset ma I\n"
     ]
    }
   ],
   "source": [
    "\"\"\"\n",
    "Define a function reverse() that computes the reversal of a string.\n",
    "\n",
    "\"\"\"\n",
    "def reverse(a):#the beginning of the function, the name of the function is reverse, and one input\n",
    "    print(a[::-1])#print() shows the content in the screen, a[::-1] means count the list with step -1 which means from the end to the beginning\n",
    "    \n",
    "#Example\n",
    "reverse('I am testing')"
   ]
  },
  {
   "cell_type": "markdown",
   "metadata": {},
   "source": [
    "# is_palindrome()"
   ]
  },
  {
   "cell_type": "code",
   "execution_count": 23,
   "metadata": {
    "collapsed": false
   },
   "outputs": [
    {
     "name": "stdout",
     "output_type": "stream",
     "text": [
      "True\n"
     ]
    }
   ],
   "source": [
    "\"\"\"\n",
    "Define a function is_palindrome() that recognizes palindromes.\n",
    "\n",
    "\"\"\"\n",
    "def is_palindrome(a):#the beginning of function, the name of the funciton is is_palindrome, and one input\n",
    "    b=a[::-1]#generate a new word b from a, b is generated by counting a from the end to the beginning\n",
    "    if a==b:#the property of palindrome, test if read from beginning equals to read from the end\n",
    "        print('True')#if a==b, this is a palindrome\n",
    "    else:#if a not equal to b, then is is not a palindrome\n",
    "        print('False')\n",
    "\n",
    "#Example\n",
    "is_palindrome('radar')"
   ]
  },
  {
   "cell_type": "markdown",
   "metadata": {},
   "source": [
    "#is_member()"
   ]
  },
  {
   "cell_type": "code",
   "execution_count": 24,
   "metadata": {
    "collapsed": false
   },
   "outputs": [
    {
     "data": {
      "text/plain": [
       "True"
      ]
     },
     "execution_count": 24,
     "metadata": {},
     "output_type": "execute_result"
    }
   ],
   "source": [
    "\"\"\"\n",
    "Define a function is_member() that takes a value x and a list of\n",
    "values a, and returns True if x is a member of a, False otherwise.\n",
    "\"\"\"\n",
    "def is_member(x, a):#the beginning of function, the function name is is_member, and there are two inputs, one is value x and the other is a list\n",
    "    if len(a) == 0:#special condition that a list actually just empty\n",
    "        return False#empty set does not contain any value\n",
    "    return x == a[0] or is_member(x, a[1:])# keep on compare x with the values in a, if there do exist x in list a, will return true, otherwise false\n",
    "\n",
    "#Example\n",
    "is_member(1,[1,2,3])"
   ]
  },
  {
   "cell_type": "markdown",
   "metadata": {},
   "source": [
    "# overlapping()"
   ]
  },
  {
   "cell_type": "code",
   "execution_count": 28,
   "metadata": {
    "collapsed": false
   },
   "outputs": [
    {
     "data": {
      "text/plain": [
       "'True'"
      ]
     },
     "execution_count": 28,
     "metadata": {},
     "output_type": "execute_result"
    }
   ],
   "source": [
    "\"\"\"\n",
    "Define a function overlapping() that takes two lists and returns True\n",
    "if they have at least one member in common, False otherwise.\n",
    "\"\"\"\n",
    "def overlapping(a,b):#the beginning of function, the name of the function is overlapping, there are two inputs\n",
    "    for i in a:#for loop, take each element in list a in this question\n",
    "        if i in b:#if, if the element we take from list a in list b also,\n",
    "            return('True')#there exist overlapping, return should be true\n",
    "    else:#after all those loops, there is no element in common\n",
    "        return('False')#there do not exist overlapping, return should be false\n",
    "\n",
    "#Example\n",
    "overlapping([1,2,3],[3,4,5])"
   ]
  },
  {
   "cell_type": "markdown",
   "metadata": {},
   "source": [
    "# generate_n_chars()"
   ]
  },
  {
   "cell_type": "code",
   "execution_count": 30,
   "metadata": {
    "collapsed": false
   },
   "outputs": [
    {
     "data": {
      "text/plain": [
       "'xxxxx'"
      ]
     },
     "execution_count": 30,
     "metadata": {},
     "output_type": "execute_result"
    }
   ],
   "source": [
    "\"\"\"\n",
    "Define a function generate_n_chars() that takes an integer n and a\n",
    "character c and returns a string, n characters long, consisiting \n",
    "only of c:s.\n",
    "\"\"\"\n",
    "def generate_n_chars(n,character):#the beginning of function, the name of the function is generate_n_chars() and there are two inputs\n",
    "    while len(character)<n:#while loop, as long as length of character input is smaller than n input the loop will continue\n",
    "        character += character[0]#character[0] is just the input character itself, therefore each time of the loop character will add one of itself\n",
    "    return(character)#when the loop finish, returns the final results which can be interpet as the length of character represent the times of loop\n",
    "\n",
    "#Example\n",
    "generate_n_chars(5,\"x\")"
   ]
  }
 ],
 "metadata": {
  "kernelspec": {
   "display_name": "Python 3",
   "language": "python",
   "name": "python3"
  },
  "language_info": {
   "codemirror_mode": {
    "name": "ipython",
    "version": 3
   },
   "file_extension": ".py",
   "mimetype": "text/x-python",
   "name": "python",
   "nbconvert_exporter": "python",
   "pygments_lexer": "ipython3",
   "version": "3.4.3"
  }
 },
 "nbformat": 4,
 "nbformat_minor": 0
}
