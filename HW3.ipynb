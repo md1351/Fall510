{
 "cells": [
  {
   "cell_type": "markdown",
   "metadata": {},
   "source": [
    "# histogram()"
   ]
  },
  {
   "cell_type": "code",
   "execution_count": 1,
   "metadata": {
    "collapsed": false
   },
   "outputs": [
    {
     "name": "stdout",
     "output_type": "stream",
     "text": [
      "****\n",
      "*********\n",
      "*******\n"
     ]
    }
   ],
   "source": [
    "\"\"\"\n",
    "Define a procedure histogram() that takes a list of integers and \n",
    "prints a histogram to the screen\n",
    "\n",
    "\"\"\"\n",
    "def histogram(list):#the beginning of function, the function name is histogram and one input\n",
    "    for i in list:#for loop and take each number in the input list\n",
    "        print('*'*i)#each time there will be i times '*' as output\n",
    "\n",
    "#Example\n",
    "histogram([4,9,7])"
   ]
  },
  {
   "cell_type": "markdown",
   "metadata": {},
   "source": [
    "# max_in_list()"
   ]
  },
  {
   "cell_type": "code",
   "execution_count": 2,
   "metadata": {
    "collapsed": false
   },
   "outputs": [
    {
     "name": "stdout",
     "output_type": "stream",
     "text": [
      "6\n"
     ]
    }
   ],
   "source": [
    "\"\"\"\n",
    "Suppose we have a much larger number of numbers, or suppose we cannot\n",
    "tell in advance how many they are? Write a function max_in_list() that\n",
    "takes a list of numbers and returns the largest one.\n",
    "\"\"\"\n",
    "def max_in_list(list):#the beginning of function, the name of the function is max_in_list, just one input\n",
    "    max=list[0]#suppose the first number in the list is the largest value and take this assumption into the loop and redefine the value of max \n",
    "    for i in list:#take the elements in the list one by one in the loop\n",
    "        if i>max:#this is the if condition, if the condition can be meet\n",
    "            max=i #we redefine the value of the max variable  as i\n",
    "    print(max)#print the final max value after a series of comparisons\n",
    "\n",
    "#Example\n",
    "max_in_list([1,2,3,4,5,6])"
   ]
  },
  {
   "cell_type": "markdown",
   "metadata": {},
   "source": [
    "# list of integers length"
   ]
  },
  {
   "cell_type": "code",
   "execution_count": 9,
   "metadata": {
    "collapsed": false
   },
   "outputs": [
    {
     "data": {
      "text/plain": [
       "[3, 4, 5, 6, 7, 8]"
      ]
     },
     "execution_count": 9,
     "metadata": {},
     "output_type": "execute_result"
    }
   ],
   "source": [
    "\"\"\"\n",
    "Write a program that maps a list of words into a list of integers representing\n",
    "the lengths of the corresponding words.\n",
    "\n",
    "\"\"\"\n",
    "def recur_wordlen(word_list):#the beginning of function, the name of function is recur_wordlen(),the input is just one\n",
    "    if len(word_list)==1:#if... special situation, there only exist one word and we can just print the length of that\n",
    "        return[len(word_list[0])]#if just one word the return should be the length of that word\n",
    "    else:#if..else..\n",
    "        templen=[len(word_list.pop())]#recur function,use [] to get a list to write the lengths, and word.pop() will return the last of the given string \n",
    "        return recur_wordlen(word_list)+templen#this recur function works with ...+templen that will continuely return the length of words in the list\n",
    "\n",
    "#Example\n",
    "recur_wordlen(['cat','four','cathy','sixpak','gerhard','eighton8'])\n"
   ]
  },
  {
   "cell_type": "markdown",
   "metadata": {},
   "source": [
    "# find_longest_word()"
   ]
  },
  {
   "cell_type": "code",
   "execution_count": 10,
   "metadata": {
    "collapsed": false
   },
   "outputs": [
    {
     "name": "stdout",
     "output_type": "stream",
     "text": [
      "8\n"
     ]
    }
   ],
   "source": [
    "\"\"\"\n",
    "Write a function find_longest_word() that takes a list of words and\n",
    "returns the length of the longest one.\n",
    "\"\"\"\n",
    "def find_long_words(word):#this is the beginning of the function and the function name is find_longest_word,the input is word\n",
    "    if len(word)==1:#if there is just one word we do not need to compare anything,just print the length of the only word\n",
    "        print(len(word[0]))#print the length of the only word directly\n",
    "    else:#if...else phrase\n",
    "        length=[len(word.pop())]#with [] to ensure we get one list, word.pop() to remove the last item of the list\n",
    "        print(max(recur_wordlen(word)+length))#'recur_wordlen(word)+length' will return a list of word length, and max() returns the largest one \n",
    "\n",
    "#Example\n",
    "mywords=['cat','four','cathy','sixpak','gerhard','eighton8']\n",
    "find_long_words(mywords)"
   ]
  },
  {
   "cell_type": "markdown",
   "metadata": {},
   "source": [
    "# filter_long_words()"
   ]
  },
  {
   "cell_type": "code",
   "execution_count": 11,
   "metadata": {
    "collapsed": false
   },
   "outputs": [
    {
     "data": {
      "text/plain": [
       "['eighton8']"
      ]
     },
     "execution_count": 11,
     "metadata": {},
     "output_type": "execute_result"
    }
   ],
   "source": [
    "\"\"\"\n",
    "Write a function filter_long_words() that takes a list of words and \n",
    "an integer n and returns the list of words that are longer than n.\n",
    "\"\"\"\n",
    "def filter_long_words(words,n):#this is the beginning of definning, the function name is filter_longest_word() and the input is word and integer n\n",
    "    return[word for word in words if len(word)>n]#the final return value should be word, and there is one filter with if, if the length>n the corresponding word will be output \n",
    "\n",
    "#Example\n",
    "mywords=['cat','four','cathy','sixpak','gerhard','eighton8']\n",
    "filter_long_words(mywords,7)"
   ]
  },
  {
   "cell_type": "markdown",
   "metadata": {},
   "source": [
    "# palindrome()"
   ]
  },
  {
   "cell_type": "code",
   "execution_count": 12,
   "metadata": {
    "collapsed": false
   },
   "outputs": [
    {
     "name": "stdout",
     "output_type": "stream",
     "text": [
      "True\n",
      "True\n"
     ]
    }
   ],
   "source": [
    "\"\"\"\n",
    "Write a version of a palindrome recognizer that also accepts phrase\n",
    "palindromes. Note that punctuation, capitalization, and spacing are\n",
    "usually ignored.\n",
    "\"\"\"\n",
    "def palindrome(a):#the beginning of definning, the function name is palindrome and input is a which can also be one phrase\n",
    "    letters = [c for c in a.lower() if c.isalpha()]#with this commend we break each sentence to a list of letters,the final return value is c, and c is one letter from a. a.lower() will return the copied but lower cased string. c.isalpha() is one fliter because we only need letters\n",
    "    b=letters[::-1]#generate a new list of letters but with opposite sequence which is referred in palindrome\n",
    "    if letters==b:#check if letters and b are equal to judge if it is a palindrome\n",
    "        print('True')#confirm that this input is palindrome\n",
    "    else:#if...else...\n",
    "        print('False')\n",
    "        \n",
    "#Example\n",
    "palindrome(\"Go hang a salami I'm a lasagna hog\")\n",
    "palindrome(\"Was it a rat I saw\")"
   ]
  },
  {
   "cell_type": "markdown",
   "metadata": {},
   "source": [
    "# pangram()"
   ]
  },
  {
   "cell_type": "code",
   "execution_count": 13,
   "metadata": {
    "collapsed": false
   },
   "outputs": [
    {
     "data": {
      "text/plain": [
       "True"
      ]
     },
     "execution_count": 13,
     "metadata": {},
     "output_type": "execute_result"
    }
   ],
   "source": [
    "\"\"\"\n",
    "A pangram is a sentence that contains all the letters of the English\n",
    "alphabet at least onece. My task here is to write a function to check \n",
    "a sentence to see if it is a pangram or not\n",
    "\"\"\"\n",
    "def pangram(sentence):#the beginning of definning, the function name is pangram, and input is one sentence\n",
    "    alphabet=['a','b','c','d','e','f','g','h','i','j','k','l','m','n','o','p','q','r','s','t','u','v','w','x','y','z']\n",
    "    letters=[c for c in sentence.lower() if c.isalpha()]#with this commend we break each sentence to a list of letters,the final return value is c, and c is one letter from a. sentence.lower() will return the copied but lower cased string. c.isalpha() is one fliter because we only need letters\n",
    "    for i in alphabet:# each letter in the alphabet\n",
    "        if i in letters:#check if i is also in letters\n",
    "            return(True)\n",
    "        else:\n",
    "            return(False)\n",
    "        \n",
    "#Example\n",
    "pangram(\"The quick brown fox jumps over the lazy dog\")"
   ]
  },
  {
   "cell_type": "markdown",
   "metadata": {},
   "source": [
    "# song()"
   ]
  },
  {
   "cell_type": "code",
   "execution_count": 14,
   "metadata": {
    "collapsed": false
   },
   "outputs": [
    {
     "name": "stdout",
     "output_type": "stream",
     "text": [
      "99 bottles of beer on the wall, 99 bottles of beer.\n",
      "Take one down, pass it around, 98 bottles of beer on the wall.\n",
      "98 bottles of beer on the wall, 98 bottles of beer.\n",
      "Take one down, pass it around, 97 bottles of beer on the wall.\n",
      "97 bottles of beer on the wall, 97 bottles of beer.\n",
      "Take one down, pass it around, 96 bottles of beer on the wall.\n",
      "96 bottles of beer on the wall, 96 bottles of beer.\n",
      "Take one down, pass it around, 95 bottles of beer on the wall.\n",
      "95 bottles of beer on the wall, 95 bottles of beer.\n",
      "Take one down, pass it around, 94 bottles of beer on the wall.\n",
      "94 bottles of beer on the wall, 94 bottles of beer.\n",
      "Take one down, pass it around, 93 bottles of beer on the wall.\n",
      "93 bottles of beer on the wall, 93 bottles of beer.\n",
      "Take one down, pass it around, 92 bottles of beer on the wall.\n",
      "92 bottles of beer on the wall, 92 bottles of beer.\n",
      "Take one down, pass it around, 91 bottles of beer on the wall.\n",
      "91 bottles of beer on the wall, 91 bottles of beer.\n",
      "Take one down, pass it around, 90 bottles of beer on the wall.\n",
      "90 bottles of beer on the wall, 90 bottles of beer.\n",
      "Take one down, pass it around, 89 bottles of beer on the wall.\n",
      "89 bottles of beer on the wall, 89 bottles of beer.\n",
      "Take one down, pass it around, 88 bottles of beer on the wall.\n",
      "88 bottles of beer on the wall, 88 bottles of beer.\n",
      "Take one down, pass it around, 87 bottles of beer on the wall.\n",
      "87 bottles of beer on the wall, 87 bottles of beer.\n",
      "Take one down, pass it around, 86 bottles of beer on the wall.\n",
      "86 bottles of beer on the wall, 86 bottles of beer.\n",
      "Take one down, pass it around, 85 bottles of beer on the wall.\n",
      "85 bottles of beer on the wall, 85 bottles of beer.\n",
      "Take one down, pass it around, 84 bottles of beer on the wall.\n",
      "84 bottles of beer on the wall, 84 bottles of beer.\n",
      "Take one down, pass it around, 83 bottles of beer on the wall.\n",
      "83 bottles of beer on the wall, 83 bottles of beer.\n",
      "Take one down, pass it around, 82 bottles of beer on the wall.\n",
      "82 bottles of beer on the wall, 82 bottles of beer.\n",
      "Take one down, pass it around, 81 bottles of beer on the wall.\n",
      "81 bottles of beer on the wall, 81 bottles of beer.\n",
      "Take one down, pass it around, 80 bottles of beer on the wall.\n",
      "80 bottles of beer on the wall, 80 bottles of beer.\n",
      "Take one down, pass it around, 79 bottles of beer on the wall.\n",
      "79 bottles of beer on the wall, 79 bottles of beer.\n",
      "Take one down, pass it around, 78 bottles of beer on the wall.\n",
      "78 bottles of beer on the wall, 78 bottles of beer.\n",
      "Take one down, pass it around, 77 bottles of beer on the wall.\n",
      "77 bottles of beer on the wall, 77 bottles of beer.\n",
      "Take one down, pass it around, 76 bottles of beer on the wall.\n",
      "76 bottles of beer on the wall, 76 bottles of beer.\n",
      "Take one down, pass it around, 75 bottles of beer on the wall.\n",
      "75 bottles of beer on the wall, 75 bottles of beer.\n",
      "Take one down, pass it around, 74 bottles of beer on the wall.\n",
      "74 bottles of beer on the wall, 74 bottles of beer.\n",
      "Take one down, pass it around, 73 bottles of beer on the wall.\n",
      "73 bottles of beer on the wall, 73 bottles of beer.\n",
      "Take one down, pass it around, 72 bottles of beer on the wall.\n",
      "72 bottles of beer on the wall, 72 bottles of beer.\n",
      "Take one down, pass it around, 71 bottles of beer on the wall.\n",
      "71 bottles of beer on the wall, 71 bottles of beer.\n",
      "Take one down, pass it around, 70 bottles of beer on the wall.\n",
      "70 bottles of beer on the wall, 70 bottles of beer.\n",
      "Take one down, pass it around, 69 bottles of beer on the wall.\n",
      "69 bottles of beer on the wall, 69 bottles of beer.\n",
      "Take one down, pass it around, 68 bottles of beer on the wall.\n",
      "68 bottles of beer on the wall, 68 bottles of beer.\n",
      "Take one down, pass it around, 67 bottles of beer on the wall.\n",
      "67 bottles of beer on the wall, 67 bottles of beer.\n",
      "Take one down, pass it around, 66 bottles of beer on the wall.\n",
      "66 bottles of beer on the wall, 66 bottles of beer.\n",
      "Take one down, pass it around, 65 bottles of beer on the wall.\n",
      "65 bottles of beer on the wall, 65 bottles of beer.\n",
      "Take one down, pass it around, 64 bottles of beer on the wall.\n",
      "64 bottles of beer on the wall, 64 bottles of beer.\n",
      "Take one down, pass it around, 63 bottles of beer on the wall.\n",
      "63 bottles of beer on the wall, 63 bottles of beer.\n",
      "Take one down, pass it around, 62 bottles of beer on the wall.\n",
      "62 bottles of beer on the wall, 62 bottles of beer.\n",
      "Take one down, pass it around, 61 bottles of beer on the wall.\n",
      "61 bottles of beer on the wall, 61 bottles of beer.\n",
      "Take one down, pass it around, 60 bottles of beer on the wall.\n",
      "60 bottles of beer on the wall, 60 bottles of beer.\n",
      "Take one down, pass it around, 59 bottles of beer on the wall.\n",
      "59 bottles of beer on the wall, 59 bottles of beer.\n",
      "Take one down, pass it around, 58 bottles of beer on the wall.\n",
      "58 bottles of beer on the wall, 58 bottles of beer.\n",
      "Take one down, pass it around, 57 bottles of beer on the wall.\n",
      "57 bottles of beer on the wall, 57 bottles of beer.\n",
      "Take one down, pass it around, 56 bottles of beer on the wall.\n",
      "56 bottles of beer on the wall, 56 bottles of beer.\n",
      "Take one down, pass it around, 55 bottles of beer on the wall.\n",
      "55 bottles of beer on the wall, 55 bottles of beer.\n",
      "Take one down, pass it around, 54 bottles of beer on the wall.\n",
      "54 bottles of beer on the wall, 54 bottles of beer.\n",
      "Take one down, pass it around, 53 bottles of beer on the wall.\n",
      "53 bottles of beer on the wall, 53 bottles of beer.\n",
      "Take one down, pass it around, 52 bottles of beer on the wall.\n",
      "52 bottles of beer on the wall, 52 bottles of beer.\n",
      "Take one down, pass it around, 51 bottles of beer on the wall.\n",
      "51 bottles of beer on the wall, 51 bottles of beer.\n",
      "Take one down, pass it around, 50 bottles of beer on the wall.\n",
      "50 bottles of beer on the wall, 50 bottles of beer.\n",
      "Take one down, pass it around, 49 bottles of beer on the wall.\n",
      "49 bottles of beer on the wall, 49 bottles of beer.\n",
      "Take one down, pass it around, 48 bottles of beer on the wall.\n",
      "48 bottles of beer on the wall, 48 bottles of beer.\n",
      "Take one down, pass it around, 47 bottles of beer on the wall.\n",
      "47 bottles of beer on the wall, 47 bottles of beer.\n",
      "Take one down, pass it around, 46 bottles of beer on the wall.\n",
      "46 bottles of beer on the wall, 46 bottles of beer.\n",
      "Take one down, pass it around, 45 bottles of beer on the wall.\n",
      "45 bottles of beer on the wall, 45 bottles of beer.\n",
      "Take one down, pass it around, 44 bottles of beer on the wall.\n",
      "44 bottles of beer on the wall, 44 bottles of beer.\n",
      "Take one down, pass it around, 43 bottles of beer on the wall.\n",
      "43 bottles of beer on the wall, 43 bottles of beer.\n",
      "Take one down, pass it around, 42 bottles of beer on the wall.\n",
      "42 bottles of beer on the wall, 42 bottles of beer.\n",
      "Take one down, pass it around, 41 bottles of beer on the wall.\n",
      "41 bottles of beer on the wall, 41 bottles of beer.\n",
      "Take one down, pass it around, 40 bottles of beer on the wall.\n",
      "40 bottles of beer on the wall, 40 bottles of beer.\n",
      "Take one down, pass it around, 39 bottles of beer on the wall.\n",
      "39 bottles of beer on the wall, 39 bottles of beer.\n",
      "Take one down, pass it around, 38 bottles of beer on the wall.\n",
      "38 bottles of beer on the wall, 38 bottles of beer.\n",
      "Take one down, pass it around, 37 bottles of beer on the wall.\n",
      "37 bottles of beer on the wall, 37 bottles of beer.\n",
      "Take one down, pass it around, 36 bottles of beer on the wall.\n",
      "36 bottles of beer on the wall, 36 bottles of beer.\n",
      "Take one down, pass it around, 35 bottles of beer on the wall.\n",
      "35 bottles of beer on the wall, 35 bottles of beer.\n",
      "Take one down, pass it around, 34 bottles of beer on the wall.\n",
      "34 bottles of beer on the wall, 34 bottles of beer.\n",
      "Take one down, pass it around, 33 bottles of beer on the wall.\n",
      "33 bottles of beer on the wall, 33 bottles of beer.\n",
      "Take one down, pass it around, 32 bottles of beer on the wall.\n",
      "32 bottles of beer on the wall, 32 bottles of beer.\n",
      "Take one down, pass it around, 31 bottles of beer on the wall.\n",
      "31 bottles of beer on the wall, 31 bottles of beer.\n",
      "Take one down, pass it around, 30 bottles of beer on the wall.\n",
      "30 bottles of beer on the wall, 30 bottles of beer.\n",
      "Take one down, pass it around, 29 bottles of beer on the wall.\n",
      "29 bottles of beer on the wall, 29 bottles of beer.\n",
      "Take one down, pass it around, 28 bottles of beer on the wall.\n",
      "28 bottles of beer on the wall, 28 bottles of beer.\n",
      "Take one down, pass it around, 27 bottles of beer on the wall.\n",
      "27 bottles of beer on the wall, 27 bottles of beer.\n",
      "Take one down, pass it around, 26 bottles of beer on the wall.\n",
      "26 bottles of beer on the wall, 26 bottles of beer.\n",
      "Take one down, pass it around, 25 bottles of beer on the wall.\n",
      "25 bottles of beer on the wall, 25 bottles of beer.\n",
      "Take one down, pass it around, 24 bottles of beer on the wall.\n",
      "24 bottles of beer on the wall, 24 bottles of beer.\n",
      "Take one down, pass it around, 23 bottles of beer on the wall.\n",
      "23 bottles of beer on the wall, 23 bottles of beer.\n",
      "Take one down, pass it around, 22 bottles of beer on the wall.\n",
      "22 bottles of beer on the wall, 22 bottles of beer.\n",
      "Take one down, pass it around, 21 bottles of beer on the wall.\n",
      "21 bottles of beer on the wall, 21 bottles of beer.\n",
      "Take one down, pass it around, 20 bottles of beer on the wall.\n",
      "20 bottles of beer on the wall, 20 bottles of beer.\n",
      "Take one down, pass it around, 19 bottles of beer on the wall.\n",
      "19 bottles of beer on the wall, 19 bottles of beer.\n",
      "Take one down, pass it around, 18 bottles of beer on the wall.\n",
      "18 bottles of beer on the wall, 18 bottles of beer.\n",
      "Take one down, pass it around, 17 bottles of beer on the wall.\n",
      "17 bottles of beer on the wall, 17 bottles of beer.\n",
      "Take one down, pass it around, 16 bottles of beer on the wall.\n",
      "16 bottles of beer on the wall, 16 bottles of beer.\n",
      "Take one down, pass it around, 15 bottles of beer on the wall.\n",
      "15 bottles of beer on the wall, 15 bottles of beer.\n",
      "Take one down, pass it around, 14 bottles of beer on the wall.\n",
      "14 bottles of beer on the wall, 14 bottles of beer.\n",
      "Take one down, pass it around, 13 bottles of beer on the wall.\n",
      "13 bottles of beer on the wall, 13 bottles of beer.\n",
      "Take one down, pass it around, 12 bottles of beer on the wall.\n",
      "12 bottles of beer on the wall, 12 bottles of beer.\n",
      "Take one down, pass it around, 11 bottles of beer on the wall.\n",
      "11 bottles of beer on the wall, 11 bottles of beer.\n",
      "Take one down, pass it around, 10 bottles of beer on the wall.\n",
      "10 bottles of beer on the wall, 10 bottles of beer.\n",
      "Take one down, pass it around, 9 bottles of beer on the wall.\n",
      "9 bottles of beer on the wall, 9 bottles of beer.\n",
      "Take one down, pass it around, 8 bottles of beer on the wall.\n",
      "8 bottles of beer on the wall, 8 bottles of beer.\n",
      "Take one down, pass it around, 7 bottles of beer on the wall.\n",
      "7 bottles of beer on the wall, 7 bottles of beer.\n",
      "Take one down, pass it around, 6 bottles of beer on the wall.\n",
      "6 bottles of beer on the wall, 6 bottles of beer.\n",
      "Take one down, pass it around, 5 bottles of beer on the wall.\n",
      "5 bottles of beer on the wall, 5 bottles of beer.\n",
      "Take one down, pass it around, 4 bottles of beer on the wall.\n",
      "4 bottles of beer on the wall, 4 bottles of beer.\n",
      "Take one down, pass it around, 3 bottles of beer on the wall.\n",
      "3 bottles of beer on the wall, 3 bottles of beer.\n",
      "Take one down, pass it around, 2 bottles of beer on the wall.\n",
      "2 bottles of beer on the wall, 2 bottles of beer.\n",
      "Take one down, pass it around, 1 bottles of beer on the wall.\n",
      "1 bottles of beer on the wall, 1 bottles of beer.\n",
      "Take one down, pass it around, 0 bottles of beer on the wall.\n"
     ]
    }
   ],
   "source": [
    "\"\"\"\n",
    "A pangram is a sentence that contains all the letters of the English\n",
    "alphabet at least onece, my task here is to write a function to check\n",
    "a sentence to see if it is a pangram or not.\n",
    "\"\"\"\n",
    "def song(n):#the beginning of defining, the name of function is song and input is n\n",
    "    for i in range(n,0,-1):#rang(n,0,-1) is counting from n to 0 with step -1 in which the negative sign represent counting backwards \n",
    "        print('%d bottles of beer on the wall, %d bottles of beer.\\n'\\\n",
    "              'Take one down, pass it around, %d bottles of beer on the wall.'%(i,i,i-1))\n",
    "        #we use format string here,%d is for 10-based numbers. With format string we leave space for the value we want to insert\n",
    "\n",
    "#Example        \n",
    "song(99)    "
   ]
  },
  {
   "cell_type": "markdown",
   "metadata": {},
   "source": [
    "# translate()"
   ]
  },
  {
   "cell_type": "code",
   "execution_count": 16,
   "metadata": {
    "collapsed": false
   },
   "outputs": [
    {
     "name": "stdout",
     "output_type": "stream",
     "text": [
      "god jul och gott nytt ar\n"
     ]
    }
   ],
   "source": [
    "\"\"\"\n",
    "Represent a samll bilingual lexicon as a Python dictionary in the \n",
    "following fashion {\"merry\":\"god\", \"christmas\":\"jul\",\"and\":\"och\",\n",
    "\"happy\":\"\"gott\",\"new\":\"nytt\",\"year\":\"ar\"} and use it to translate your \n",
    "Christmas cards from English into Swedish. That is, write a function tranlate()\n",
    "that takes a list of English words and returns a list of Swedish words.\n",
    "\"\"\"\n",
    "import re #import re module for regular expression\n",
    "def translate(sentence,substitute):#the beginning of definning, function name is translate(),inputs have two\n",
    "    rx=re.compile('|'.join(map(re.escape,substitute)))\n",
    "    #re.escape is transforming all the non-letter string, map() is conducting this operation on each element in adict\n",
    "    #re.compile() is clarifying certain pattern,'|' is matching the pattern of either side but begin from the left and once left match will not vist the right\n",
    "    #this commend gives re.compile('new|happy|merry|year|and|christmas'),re.compile gives the match information\n",
    "    def one_xlat(match):\n",
    "        return substitute[match.group(0)]\n",
    "    #This function will take the match elements as argument\n",
    "    return rx.sub(one_xlat,sentence)\n",
    "    #rx already contains the match information, therefore we will only need to point out the substitute and the text. Here the special thing is the substitue is one function we defined before, the match items will be the arguments\n",
    "sentence=\"merry christmas and happy new year\"\n",
    "substitute={\"merry\" : \"god\",\n",
    "       \"christmas\" : \"jul\",\n",
    "       \"and\":\"och\",\n",
    "       \"happy\":\"gott\",\n",
    "       \"new\":\"nytt\",\n",
    "       \"year\":\"ar\",\n",
    "}#set up the dictionary of the words\n",
    "\n",
    "#Example\n",
    "print(translate(sentence,substitute))"
   ]
  },
  {
   "cell_type": "markdown",
   "metadata": {},
   "source": [
    "# char_freq()"
   ]
  },
  {
   "cell_type": "code",
   "execution_count": 17,
   "metadata": {
    "collapsed": false,
    "scrolled": true
   },
   "outputs": [
    {
     "name": "stdout",
     "output_type": "stream",
     "text": [
      "Counter({'b': 14, 'a': 7, 'c': 3, 'd': 3})\n"
     ]
    }
   ],
   "source": [
    "\"\"\"\n",
    "Write a function char_freq() that takes a string and builds a frequency\n",
    "listing of the characters contained in it. Represent the frequency \n",
    "listing as a Python dictionary.\n",
    "\"\"\"\n",
    "import collections#collections modules is one high-performance container datatypes\n",
    "def char_freq(word):#beginning of definning, function name is char_freq, input is word\n",
    "    counter=collections.Counter(word)#count word frequencey correspondingly\n",
    "    print(counter)#print the value of counter\n",
    "    \n",
    "#Example    \n",
    "char_freq(\"abbabcbdbabdbdbabababcbcbab\")"
   ]
  },
  {
   "cell_type": "markdown",
   "metadata": {},
   "source": [
    "# decoder_encoder()"
   ]
  },
  {
   "cell_type": "code",
   "execution_count": 18,
   "metadata": {
    "collapsed": false
   },
   "outputs": [
    {
     "name": "stdout",
     "output_type": "stream",
     "text": [
      "Pnrfne pvcure? V zhpu Pnrfne fnynq!\n",
      " Caesarcipher?ImuchCaesarsalad!\n",
      "\n",
      "\n",
      "Caesar cipher? I much prefer Caesar salad\n",
      " Pnrfnepvcure?VzhpucersrePnrfnefnynq\n"
     ]
    }
   ],
   "source": [
    "\"\"\"\n",
    "In cryptography,a Caesar cipher is a very simple encryption techniques\n",
    "in which each letter in the plain text is replaced by a letter some\n",
    "fixed number of positions down the alphabet. For example, with a shift of\n",
    "3,A would be replaced by D, B would become E,and so on.The method is\n",
    "named after Julius Caesar, who used it to communicate with his generals.\n",
    "ROT-13 (\"rotate by 13 places\") is a widely used example of a Caesar\n",
    "cipher where the shift is 13.In Python, the key for ROT‐13 may be\n",
    "represented by means of the following dictionary:\n",
    "key = {'a':'n', 'b':'o', 'c':'p', 'd':'q', 'e':'r', 'f':'s', 'g':'t', 'h':'u', \n",
    "       'i':'v', 'j':'w', 'k':'x', 'l':'y', 'm':'z', 'n':'a', 'o':'b', 'p':'c', \n",
    "       'q':'d', 'r':'e', 's':'f', 't':'g', 'u':'h', 'v':'i', 'w':'j', 'x':'k',\n",
    "       'y':'l', 'z':'m', 'A':'N', 'B':'O', 'C':'P', 'D':'Q', 'E':'R', 'F':'S', \n",
    "       'G':'T', 'H':'U', 'I':'V', 'J':'W', 'K':'X', 'L':'Y', 'M':'Z', 'N':'A', \n",
    "       'O':'B', 'P':'C', 'Q':'D', 'R':'E', 'S':'F', 'T':'G', 'U':'H', 'V':'I', \n",
    "       'W':'J', 'X':'K', 'Y':'L', 'Z':'M'}\n",
    "Your task in this exercise is to implement an encoder/decoder of ROT‐13\n",
    "\"\"\"\n",
    "import re \n",
    "#regular expression module\n",
    "key = {'a':'n', 'b':'o', 'c':'p', 'd':'q', 'e':'r', 'f':'s', 'g':'t', 'h':'u', \n",
    "       'i':'v', 'j':'w', 'k':'x', 'l':'y', 'm':'z', 'n':'a', 'o':'b', 'p':'c', \n",
    "       'q':'d', 'r':'e', 's':'f', 't':'g', 'u':'h', 'v':'i', 'w':'j', 'x':'k',\n",
    "       'y':'l', 'z':'m', 'A':'N', 'B':'O', 'C':'P', 'D':'Q', 'E':'R', 'F':'S', \n",
    "       'G':'T', 'H':'U', 'I':'V', 'J':'W', 'K':'X', 'L':'Y', 'M':'Z', 'N':'A', \n",
    "       'O':'B', 'P':'C', 'Q':'D', 'R':'E', 'S':'F', 'T':'G', 'U':'H', 'V':'I', \n",
    "       'W':'J', 'X':'K', 'Y':'L', 'Z':'M'}\n",
    "#setting up the ROT-13 dictionary\n",
    "def decoder_encoder(inputString):#the beginning of definning, the name of function is decoder_encoder, input is string\n",
    "    newString=\" \"#set one empty string for later written in\n",
    "    print(inputString)#the output of empty string is just empty\n",
    "    for word in (re.findall('[a-zA-Z0-9?!]+',inputString)):\n",
    "        #re.findall('[a-zA-Z0-9?!]+') is searching for all the matched terms, '[a-zA-Z0-9?!]+'means all the letters(capital or not) and numbers, symbles. and this pattern can repeat any times\n",
    "        for j in range(len(word)):\n",
    "            if word[j] in key:\n",
    "                newString=newString+key[word[j]]\n",
    "                #write the corresponding key dictionary of word[j]\n",
    "            else:\n",
    "                newString=newString+word[j]\n",
    "                #if no corresponding in the key dictionary like,.!?,just write down directly\n",
    "    print(newString)\n",
    "    #after those loops, newString has been written \n",
    "\n",
    "#Example\n",
    "decoder_encoder(\"Pnrfne pvcure? V zhpu Pnrfne fnynq!\")\n",
    "\n",
    "print(\"\\n\")\n",
    "#new line to separate the two answers\n",
    "\n",
    "decoder_encoder(\"Caesar cipher? I much prefer Caesar salad\")\n",
    "    "
   ]
  },
  {
   "cell_type": "markdown",
   "metadata": {},
   "source": [
    "# correct()"
   ]
  },
  {
   "cell_type": "code",
   "execution_count": 19,
   "metadata": {
    "collapsed": false
   },
   "outputs": [
    {
     "data": {
      "text/plain": [
       "'This is very funny and cool. Indeed!'"
      ]
     },
     "execution_count": 19,
     "metadata": {},
     "output_type": "execute_result"
    }
   ],
   "source": [
    "\"\"\"\n",
    "Define  a simple \"spelling correlation\" function correct() that takes\n",
    "a string and sees to it that 1) two or more occurrences of the space\n",
    "of the space character is compressed into one, and 2)inserts an extra\n",
    "space after a period if the period is directly followed by a letter.\n",
    "\"\"\"\n",
    "import re\n",
    "# re module, regular expression\n",
    "def correct(word):#the beginning of definning, function name is correct and input is word\n",
    "    word=re.sub(r'[.]([a-zA-Z])',r'. \\1',word)\n",
    "    #re.sub is for matching and substituting, r'[.]([a-zA-Z])'is one raw string pattern, r'.\\1' is the term we use to substitute and 1 here means to assign to the first group, this commend insert an extra space  \n",
    "    word=re.sub(r'( )+',r' ',word)#re.sub() is substituting, and this commend compress two or more occurrences of the space character to one, word indicate the subject\n",
    "    return(word)#return the word after two substitutions\n",
    "\n",
    "#Example\n",
    "correct('This is  very funny  and  cool.Indeed!')"
   ]
  },
  {
   "cell_type": "markdown",
   "metadata": {},
   "source": [
    "# make_3sg_form()"
   ]
  },
  {
   "cell_type": "code",
   "execution_count": 20,
   "metadata": {
    "collapsed": false
   },
   "outputs": [
    {
     "name": "stdout",
     "output_type": "stream",
     "text": [
      "tries\n"
     ]
    }
   ],
   "source": [
    "\"\"\"\n",
    "The third person singular verb form in English is distinguished by \n",
    "the suffix -s, which is added to the stem of the infinitive form:\n",
    "run -> runs. A simple set of rules can be given as follows:\n",
    "• If the verb ends in y, remove it and add ies\n",
    "• If the verb ends in o, ch, s, sh, x or z, add es\n",
    "• By default just add s\n",
    "Your task in this exercise is to define a funtion make_2sg_form() which given\n",
    "a verb in infinitive form returns its third person singular form. Test your\n",
    "function with words as heuristic, in the sense that you must not expect them\n",
    "to work for all cases.\n",
    "\"\"\"\n",
    "def make_3sg_form(word):#the beginning of definning, the funtion name is make_3sg_form and input is word\n",
    "    if word.endswith('y'):\n",
    "        print(word[:-1]+'ies')#If the verb ends in y, remove it and add ies\n",
    "    elif word.endswith('o'):\n",
    "        print(word+'es')#If the verb ends in o add es\n",
    "    elif word.endswith('ch'):\n",
    "        print(word+'es')#If the verb ends in ch add es\n",
    "    elif word.endswith('s'):\n",
    "        print(word+'es')#If the verb ends in s add es\n",
    "    elif word.endswith('sh'):\n",
    "        print(word+'es')#If the verb ends in sh add es\n",
    "    elif word.endswith('x'):\n",
    "        print(word+'es')#If the verb ends in x add es\n",
    "    elif word.endswith('z'):\n",
    "        print(word+'es')#ends in o, ch, s, sh, x,z add es\n",
    "    else:#else are just simple third person singular verb form\n",
    "        print(word+'s')#simply add one s to the end\n",
    "#as the discription, I add or change letters correspondingly\n",
    "\n",
    "#Example\n",
    "make_3sg_form('try')"
   ]
  },
  {
   "cell_type": "markdown",
   "metadata": {},
   "source": [
    "# make_ing_form()"
   ]
  },
  {
   "cell_type": "code",
   "execution_count": 22,
   "metadata": {
    "collapsed": false
   },
   "outputs": [
    {
     "name": "stdout",
     "output_type": "stream",
     "text": [
      "moving\n",
      "lying\n",
      "seeing\n",
      "hugging\n"
     ]
    }
   ],
   "source": [
    "\"\"\"\n",
    "In English, the present participle is formed by adding the suffix -ing\n",
    "to the infinite form: go -> going. A simple set of heuristic rules can \n",
    "be given as follows:\n",
    "• If the verb ends in e, drop the e and add ing (if not exception:be,\n",
    "see, flee, knee, etc.)\n",
    "• If the verb ends in ie, change ie to y and add ing\n",
    "• For words consisting of consonant-vowel-consonant, double the\n",
    "final letter before adding ing\n",
    "• By default just add ing\n",
    "Your task in this exercise is to define a function make_ing_form() which\n",
    "given a verb in infinitive form returns its present participle form. \n",
    "\"\"\"\n",
    "def vowel(letter):#define vowel function first which test a letter is a vowel or not, because in on pattern we will use this\n",
    "    if letter in ['a','e','i','o','u']:#if letter belongs to this set it is a vowel\n",
    "        return(True)\n",
    "def make_ing_form(word):#the function name is make_ing_form and input is word\n",
    "    if word.endswith('ie'):#If the verb ends in ie, change ie to y and add ing\n",
    "        print(word[:-2]+'ying')#word[:-2]+'ying' is changing ie to y and add ing, because word[:-2] get part of word before the \n",
    "        #[:-2] count from the first letter of string and leave the last two, then add 'ying'\n",
    "    elif word.endswith('e') and (word[-2].endswith('e') or len(word)==2):#this is the exception situations, end with double e or word length is just 2\n",
    "        #'and' 'or' add two situations just add ing(except be,see,flee,knee, etc.) \n",
    "        # 'and' 'or' here means both condtions must stand or at least on condition stands\n",
    "        #word[-2].endswith('e') mean ends with double e\n",
    "        print(word+'ing')\n",
    "    elif word.endswith('e'):#If the verb ends in e, drop the e and add ing\n",
    "        print(word[:-1]+'ing')#word[:-1] is actually dropping the e\n",
    "        #ends in e drop e and add ing\n",
    "    elif not vowel(word[-1]) and vowel(word[-2]) and not vowel(word[-3]):\n",
    "        print(word+word[-1]+'ing')\n",
    "        #For words consisting of consonant-vowel-consonant,double the final letter before adding ing\n",
    "    else:\n",
    "        print(word+'ing')\n",
    "#for different situations, I add and change letters correspondingly\n",
    "\n",
    "#Example\n",
    "make_ing_form('move')\n",
    "make_ing_form('lie')\n",
    "make_ing_form('see')\n",
    "make_ing_form('hug')"
   ]
  },
  {
   "cell_type": "code",
   "execution_count": null,
   "metadata": {
    "collapsed": true
   },
   "outputs": [],
   "source": []
  }
 ],
 "metadata": {
  "kernelspec": {
   "display_name": "Python 3",
   "language": "python",
   "name": "python3"
  },
  "language_info": {
   "codemirror_mode": {
    "name": "ipython",
    "version": 3
   },
   "file_extension": ".py",
   "mimetype": "text/x-python",
   "name": "python",
   "nbconvert_exporter": "python",
   "pygments_lexer": "ipython3",
   "version": "3.4.3"
  }
 },
 "nbformat": 4,
 "nbformat_minor": 0
}
